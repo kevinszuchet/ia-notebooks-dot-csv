{
 "cells": [
  {
   "cell_type": "markdown",
   "metadata": {},
   "source": [
    "# IA Notebook #2 - Ataques Adversarios"
   ]
  },
  {
   "cell_type": "code",
   "execution_count": null,
   "metadata": {},
   "outputs": [],
   "source": [
    "!pip install tensorflow keras"
   ]
  },
  {
   "cell_type": "code",
   "execution_count": null,
   "metadata": {},
   "outputs": [],
   "source": [
    "import tensorflow as tf\n",
    "import keras\n",
    "\n",
    "import matplotlib.pyplot as plt\n",
    "import numpy as np"
   ]
  },
  {
   "cell_type": "code",
   "execution_count": null,
   "metadata": {},
   "outputs": [],
   "source": [
    "from keras.applications.inception_v3 import InceptionV3, decode_predictions\n",
    "from keras import backend as K"
   ]
  },
  {
   "cell_type": "code",
   "execution_count": null,
   "metadata": {},
   "outputs": [],
   "source": [
    "iv3 = InceptionV3()"
   ]
  },
  {
   "cell_type": "code",
   "execution_count": null,
   "metadata": {},
   "outputs": [],
   "source": [
    "print(iv3.summary())"
   ]
  },
  {
   "cell_type": "code",
   "execution_count": null,
   "metadata": {},
   "outputs": [],
   "source": [
    "from keras.preprocessing import image\n",
    "\n",
    "x = image.load_image_to_array(image.load_image(\"../assets/beer.png\"))\n",
    "\n",
    "# (altura de la foto, ancho de la foto, profundidad de los píxeles - RGB en este caso (3 canales))\n",
    "print(x.shape)\n",
    "\n",
    "x = image.load_image_to_array(image.load_image(\"../assets/beer.png\"), target_size=(299, 299))\n",
    "# x = image.load_image_to_array(image.load_image(\"../assets/cat.png\"), target_size=(299, 299))\n",
    "\n",
    "# Cambio de rango: 0-255 -> -1-1\n",
    "x /= 255\n",
    "x -= 0.5\n",
    "x *= 2\n",
    "\n",
    "# (batchSize, ...otras dimensiones)\n",
    "x = x.reshape([1, x.shape[0], x.shape[1], x.shape[2]])\n",
    "\n",
    "y = iv3.predict(x)\n",
    "\n",
    "y.shape # (1, 1000)\n",
    "\n",
    "# decode_predictions para mapear las probabilidades a los nombres de las clases\n",
    "decode_predictions(y)"
   ]
  },
  {
   "cell_type": "markdown",
   "metadata": {},
   "source": [
    "## Ataques adversarios"
   ]
  },
  {
   "cell_type": "code",
   "execution_count": null,
   "metadata": {},
   "outputs": [],
   "source": [
    "# Parámetros fijos y optimización en los datos de entrada\n",
    "# La red neuronal definida por Tensor Flow es un grafo de procesos que se realizan sobre los datos\n",
    "# La idea es redefinir el grafo que represente el proceso de optimización para poder generar las imágenes\n",
    "\n",
    "input_layer = iv3.layers[0].input\n",
    "output_layer = iv3.layers[-1].output\n",
    "\n",
    "target_class = 951\n",
    "\n",
    "# Queremos maximizar el resultado de la clase {target_class}\n",
    "loss = output_layer[0, target_class]\n",
    "\n",
    "# El gradiente entre el error y la variable de entrada\n",
    "gradient = K.gradients(loss, input_layer)[0]\n",
    "\n",
    "# El modo de funcionamiento depende de la fase en la que estamos (entrenando, funcionando)\n",
    "optimize_gradient = K.function([input_layer, K.learning_phase()], [gradient, loss])\n",
    "\n",
    "cost = 0.0\n",
    "\n",
    "# Al manipular los píxeles la red debe mantenerse en un rango de valores (intensidad de perturbación)\n",
    "pert = 0.01\n",
    "max_pert = x + pert\n",
    "min_pert = x - pert\n",
    "\n",
    "adversarial - np.copy(x)\n",
    "while cost < 0.95:\n",
    "    gr, cost = optimize_gradient([adversarial, 0]) # 0: Testing phase\n",
    "    adversarial += gr\n",
    "    adversarial = np.clip(adversarial, min_pert, max_pert) # np.clip?\n",
    "    adversarial = np.clip(adversarial, -1, 1) # Umbrales de IV3\n",
    "    print(\"Target cost:\", cost)"
   ]
  },
  {
   "cell_type": "code",
   "execution_count": null,
   "metadata": {},
   "outputs": [],
   "source": [
    "adversarial /= 2\n",
    "adversarial += 0.5\n",
    "adversarial *= 255"
   ]
  },
  {
   "cell_type": "code",
   "execution_count": null,
   "metadata": {},
   "outputs": [],
   "source": [
    "img_array = adversarial[0].astype(np.uint8)\n",
    "\n",
    "plt.imshow(img_array)\n",
    "plt.show()"
   ]
  },
  {
   "cell_type": "code",
   "execution_count": null,
   "metadata": {},
   "outputs": [],
   "source": [
    "from PIL import Image\n",
    "\n",
    "im = Image.fromarray(img_array)\n",
    "im.save(\"../assets/hacked.png\")"
   ]
  }
 ],
 "metadata": {
  "kernelspec": {
   "display_name": "Python 3",
   "language": "python",
   "name": "python3"
  },
  "language_info": {
   "codemirror_mode": {
    "name": "ipython",
    "version": 3
   },
   "file_extension": ".py",
   "mimetype": "text/x-python",
   "name": "python",
   "nbconvert_exporter": "python",
   "pygments_lexer": "ipython3",
   "version": "3.8.5"
  }
 },
 "nbformat": 4,
 "nbformat_minor": 4
}
