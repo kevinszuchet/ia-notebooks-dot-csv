{
 "cells": [
  {
   "cell_type": "markdown",
   "metadata": {},
   "source": [
    "# IA Notebook #3 - Descenso del Gradiente (Gradient Descent)"
   ]
  },
  {
   "cell_type": "code",
   "execution_count": null,
   "metadata": {},
   "outputs": [],
   "source": [
    "import numpy as np\n",
    "import scipy as sc\n",
    "\n",
    "import matplotlib.pyplot as plt"
   ]
  },
  {
   "cell_type": "code",
   "execution_count": null,
   "metadata": {},
   "outputs": [],
   "source": [
    "func = lambda th: np.sin(1 / 2 * th[0] ** 2 - 1 / 4 * th[1] ** 2 + 3) * np.cos(2 * th[0] + 1 - np.e ** th[1])\n",
    "\n",
    "res = 100\n",
    "\n",
    "_X = np.linspace(-2, 2, res)\n",
    "_Y = np.linspace(-2, 2, res)\n",
    "\n",
    "_Z = np.zeros((res, res))\n",
    "\n",
    "for ix, x in enumerate(_X):\n",
    "    for iy, y in enumerate(_Y)\n",
    "        _Z[iy, ix] = func([x, y])\n",
    "\n",
    "plt.contourf(_X, _Y, _Z, 100) # Los colores representan diferentes alturas\n",
    "plt.colorbar() # Para identificar los diferentes colores\n",
    "\n",
    "Theta = np.random.rand(2) * 4 - 2\n",
    "_T = np.copy(Theta)\n",
    "\n",
    "h = 0.001\n",
    "gradient = np.zeros(2)\n",
    "\n",
    "# Ratio de aprendizaje muy pequeño -> muchos pasos para movernos en distancias cortas\n",
    "# Ratio de aprendizaje muy grande -> los puntos no convergen y se van fuera del dominio\n",
    "learning_rate = 0.001\n",
    "\n",
    "plt.plot(Theta[0], Theta[1], \"o\", c=\"white\")\n",
    "\n",
    "for _ in range(10000):\n",
    "    # Debería ir acá? _T = np.copy(Theta)\n",
    "    \n",
    "    for it, th in enumerate(Theta):\n",
    "        # Normalmente se usa un módulo de autodiferenciación de numpy o scipy\n",
    "        _T = np.copy(Theta)\n",
    "        \n",
    "        _T[it] = _T[it] + h\n",
    "        deriv = (func(_T) - func(Theta)) / h\n",
    "\n",
    "        gradient[it] = deriv\n",
    "\n",
    "    Theta -= learning_rate * gradient\n",
    "    \n",
    "    if (_ % 100 == 0)\n",
    "        plt.plot(Theta[0], Theta[1], \".\", c=\"red\")\n",
    "    \n",
    "\n",
    "plt.plot(Theta[0], Theta[1], \"o\", c=\"green\")\n",
    "plt.show()"
   ]
  }
 ],
 "metadata": {
  "kernelspec": {
   "display_name": "Python 3",
   "language": "python",
   "name": "python3"
  },
  "language_info": {
   "codemirror_mode": {
    "name": "ipython",
    "version": 3
   },
   "file_extension": ".py",
   "mimetype": "text/x-python",
   "name": "python",
   "nbconvert_exporter": "python",
   "pygments_lexer": "ipython3",
   "version": "3.8.5"
  }
 },
 "nbformat": 4,
 "nbformat_minor": 4
}
